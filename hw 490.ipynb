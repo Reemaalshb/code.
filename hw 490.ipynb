{
 "cells": [
  {
   "cell_type": "code",
   "execution_count": 6,
   "id": "a24619c0",
   "metadata": {},
   "outputs": [
    {
     "name": "stdout",
     "output_type": "stream",
     "text": [
      "[1, 2, 3, 4, 5]\n",
      "['1', '2', '3', '4', '5']\n"
     ]
    }
   ],
   "source": [
    "nums=range(1,6)\n",
    "print(list(nums))\n",
    "print(list(map(str,nums)))"
   ]
  },
  {
   "cell_type": "code",
   "execution_count": 8,
   "id": "85e0e2cc",
   "metadata": {},
   "outputs": [
    {
     "name": "stdout",
     "output_type": "stream",
     "text": [
      "[0, 1, 2, 3, 4, 5, 6]\n",
      "['0', '1', '2', '3', '4', '5', '6']\n"
     ]
    }
   ],
   "source": [
    "nums=range(0,7)\n",
    "print(list(nums))\n",
    "print(list(map(str,nums)))"
   ]
  },
  {
   "cell_type": "code",
   "execution_count": 15,
   "id": "17713997",
   "metadata": {},
   "outputs": [
    {
     "name": "stdout",
     "output_type": "stream",
     "text": [
      "0123456"
     ]
    }
   ],
   "source": [
    "for x in range(7):\n",
    "    print(x,end='')"
   ]
  },
  {
   "cell_type": "code",
   "execution_count": 17,
   "id": "75f2b58f",
   "metadata": {},
   "outputs": [
    {
     "name": "stdout",
     "output_type": "stream",
     "text": [
      "0\n",
      "1\n",
      "2\n",
      "3\n",
      "4\n",
      "5\n",
      "6\n"
     ]
    }
   ],
   "source": [
    "for x in range(7):\n",
    "    print(x)"
   ]
  },
  {
   "cell_type": "code",
   "execution_count": 32,
   "id": "d19482ea",
   "metadata": {},
   "outputs": [
    {
     "name": "stdout",
     "output_type": "stream",
     "text": [
      "6\n",
      "5\n",
      "4\n",
      "3\n",
      "2\n",
      "1\n",
      "0\n"
     ]
    }
   ],
   "source": [
    "for x in range(1):\n",
    "    for y in[6,5,4,3,2,1,0]:\n",
    "        b=x+y\n",
    "        print(b)\n",
    "    "
   ]
  },
  {
   "cell_type": "code",
   "execution_count": 69,
   "id": "0545d75b",
   "metadata": {},
   "outputs": [
    {
     "ename": "SyntaxError",
     "evalue": "invalid syntax (3547903337.py, line 6)",
     "output_type": "error",
     "traceback": [
      "\u001b[0;36m  File \u001b[0;32m\"/var/folders/wt/q5qvwzt94gj9wt9yy11wqz2r0000gn/T/ipykernel_17167/3547903337.py\"\u001b[0;36m, line \u001b[0;32m6\u001b[0m\n\u001b[0;31m    x= np.linspace[-20,20,0.1]:\u001b[0m\n\u001b[0m                              ^\u001b[0m\n\u001b[0;31mSyntaxError\u001b[0m\u001b[0;31m:\u001b[0m invalid syntax\n"
     ]
    }
   ],
   "source": [
    "import math\n",
    "import matplotlib \n",
    "import matplotlib.pyplot as plt\n",
    "import numpy as np\n",
    "\n",
    "x= np.linspace[-20,20,0.1]:\n",
    "    plt.plot(x,x**2,label='y')\n",
    "        plt.legend()\n",
    "        plt.show()\n",
    "         "
   ]
  },
  {
   "cell_type": "code",
   "execution_count": 51,
   "id": "34416802",
   "metadata": {},
   "outputs": [
    {
     "ename": "SyntaxError",
     "evalue": "invalid syntax (1696140640.py, line 5)",
     "output_type": "error",
     "traceback": [
      "\u001b[0;36m  File \u001b[0;32m\"/var/folders/wt/q5qvwzt94gj9wt9yy11wqz2r0000gn/T/ipykernel_17167/1696140640.py\"\u001b[0;36m, line \u001b[0;32m5\u001b[0m\n\u001b[0;31m    x=numpy.arange(0,20,0.1):\u001b[0m\n\u001b[0m                            ^\u001b[0m\n\u001b[0;31mSyntaxError\u001b[0m\u001b[0;31m:\u001b[0m invalid syntax\n"
     ]
    }
   ],
   "source": [
    "import matplotlib \n",
    "import matplotlib.pyplot as plt\n",
    "import numpy as np\n",
    "\n",
    "x=numpy.arange(0,20,0.1):\n",
    "    y=x.^2:\n",
    "        plt.plot(x,y)\n",
    "        plt.show\n",
    "    "
   ]
  },
  {
   "cell_type": "code",
   "execution_count": null,
   "id": "ad63e117",
   "metadata": {},
   "outputs": [],
   "source": []
  }
 ],
 "metadata": {
  "kernelspec": {
   "display_name": "Python 3 (ipykernel)",
   "language": "python",
   "name": "python3"
  },
  "language_info": {
   "codemirror_mode": {
    "name": "ipython",
    "version": 3
   },
   "file_extension": ".py",
   "mimetype": "text/x-python",
   "name": "python",
   "nbconvert_exporter": "python",
   "pygments_lexer": "ipython3",
   "version": "3.9.7"
  }
 },
 "nbformat": 4,
 "nbformat_minor": 5
}
