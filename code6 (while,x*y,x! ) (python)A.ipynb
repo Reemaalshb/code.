{
 "cells": [
  {
   "cell_type": "code",
   "execution_count": 1,
   "id": "50ace87f-85a1-468b-a33c-1a8577cd63fb",
   "metadata": {},
   "outputs": [
    {
     "name": "stdout",
     "output_type": "stream",
     "text": [
      "5\n",
      "4\n",
      "3\n"
     ]
    }
   ],
   "source": [
    "x=5\n",
    "while(x!=2):\n",
    "    print (x)\n",
    "    x=x-1"
   ]
  },
  {
   "cell_type": "code",
   "execution_count": 2,
   "id": "2e994efe-0231-40c2-8bc8-f1574d78863b",
   "metadata": {},
   "outputs": [
    {
     "name": "stdout",
     "output_type": "stream",
     "text": [
      "x= 1  y= 2\n"
     ]
    }
   ],
   "source": [
    "class Points(object):\n",
    "    def __init__(self,x,y):\n",
    "        self.x=x\n",
    "        self.y=y\n",
    "    def print_point(self):\n",
    "        print('x=',self.x,' y=',self.y)\n",
    "p1=Points(1,2)\n",
    "p1.print_point()   "
   ]
  },
  {
   "cell_type": "code",
   "execution_count": 3,
   "id": "e2d0e247-a54f-4592-ac57-2da6d70fd46e",
   "metadata": {},
   "outputs": [
    {
     "name": "stdout",
     "output_type": "stream",
     "text": [
      "0 AA\n",
      "1 BB\n",
      "2 CC\n"
     ]
    }
   ],
   "source": [
    "for i,x in enumerate(['A','B','C']):\n",
    "    print(i,2*x)"
   ]
  },
  {
   "cell_type": "code",
   "execution_count": 4,
   "id": "9c786a0a-b041-4997-83a7-d625ba0e1fba",
   "metadata": {},
   "outputs": [
    {
     "name": "stdout",
     "output_type": "stream",
     "text": [
      "x= 2  y= 2\n"
     ]
    }
   ],
   "source": [
    "class Points(object):\n",
    "    def __init__(self,x,y):\n",
    "        self.x=x\n",
    "        self.y=y\n",
    "    def print_point(self):\n",
    "        print('x=',self.x,' y=',self.y)\n",
    "p2=Points(1,2)\n",
    "\n",
    "p2.x=2\n",
    "\n",
    "p2.print_point()        "
   ]
  },
  {
   "cell_type": "code",
   "execution_count": 5,
   "id": "f950dd1c-9923-414b-8801-9ce87dc4cf3b",
   "metadata": {},
   "outputs": [],
   "source": [
    "def delta(x):\n",
    "    if x==0:\n",
    "        y=1\n",
    "    else:\n",
    "        y=0\n",
    "    return(y)    "
   ]
  },
  {
   "cell_type": "code",
   "execution_count": 7,
   "id": "d5d80813-707f-4cc1-835b-cf018047a5dc",
   "metadata": {},
   "outputs": [
    {
     "data": {
      "text/plain": [
       "1"
      ]
     },
     "execution_count": 7,
     "metadata": {},
     "output_type": "execute_result"
    }
   ],
   "source": [
    "delta(0)"
   ]
  },
  {
   "cell_type": "code",
   "execution_count": 8,
   "id": "f3d2a82f-7a2e-4760-a431-e2990d637eb7",
   "metadata": {},
   "outputs": [
    {
     "name": "stdout",
     "output_type": "stream",
     "text": [
      "2\n"
     ]
    }
   ],
   "source": [
    "a=1\n",
    "def do(x):\n",
    "    return(x+a)\n",
    "print(do(1))"
   ]
  },
  {
   "cell_type": "code",
   "execution_count": 9,
   "id": "5a75f6a3-2695-4494-97de-095e9f156e78",
   "metadata": {},
   "outputs": [],
   "source": [
    "def add(a,b):\n",
    "    return(a+b)"
   ]
  },
  {
   "cell_type": "code",
   "execution_count": 10,
   "id": "336d9f04-5012-436d-902d-049c7cf3c74b",
   "metadata": {},
   "outputs": [
    {
     "data": {
      "text/plain": [
       "10"
      ]
     },
     "execution_count": 10,
     "metadata": {},
     "output_type": "execute_result"
    }
   ],
   "source": [
    "add(5,5)"
   ]
  },
  {
   "cell_type": "code",
   "execution_count": null,
   "id": "f46036ed-d243-402f-8e46-a26f35914dd7",
   "metadata": {},
   "outputs": [],
   "source": []
  }
 ],
 "metadata": {
  "kernelspec": {
   "display_name": "Python 3 (ipykernel)",
   "language": "python",
   "name": "python3"
  },
  "language_info": {
   "codemirror_mode": {
    "name": "ipython",
    "version": 3
   },
   "file_extension": ".py",
   "mimetype": "text/x-python",
   "name": "python",
   "nbconvert_exporter": "python",
   "pygments_lexer": "ipython3",
   "version": "3.9.7"
  }
 },
 "nbformat": 4,
 "nbformat_minor": 5
}
